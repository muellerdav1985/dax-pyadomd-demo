{
 "cells": [
  {
   "cell_type": "markdown",
   "id": "e3a02f46-59d5-4f77-afad-1a12fa70a7e0",
   "metadata": {},
   "source": [
    "# DAX + pyadomd + pandas Beispielprojekt\n",
    "\n",
    "Dieses Notebook zeigt, wie man mit Python, pyadomd und pandas DAX-Abfragen gegen ein Tabular-Modell ausführt und die Ergebnisse verarbeitet. Als Output wird eine excel-Tabelle generiert, die die Anzahl der Neu-Uploads pro Monat auf einer Video-Plattform nach Monat enthält.\n",
    "\n",
    "⚠️ Hinweis: Der Code ist abstrahiert und dient nur zu Lern- und Demo-Zwecken. Es werden keine echten Verbindungen und keine echten Daten verwenet."
   ]
  },
  {
   "cell_type": "code",
   "execution_count": null,
   "id": "a8de662f-a4c0-4b80-98f7-b3690ee65814",
   "metadata": {},
   "outputs": [],
   "source": [
    "import pandas as pd\n",
    "from pyadomd import Pyadomd\n",
    "from pandas import DataFrame"
   ]
  },
  {
   "cell_type": "markdown",
   "id": "ce0f7392-3136-44fe-849b-732b2ab76ba5",
   "metadata": {},
   "source": [
    "## Verbindung zum Analysis Services Tabular-Modell aufbauen\n",
    "\n",
    "Hier wird eine Beispiel-Verbindungszeichenfolge definiert und zwei DAX-Abfragen vorbereitet:\n",
    "- Vorjahresdaten (bis 2023)\n",
    "- Daten für 2024\n"
   ]
  },
  {
   "cell_type": "code",
   "execution_count": null,
   "id": "2c7aaa46-066f-46c9-a9a7-ae703fcb85ec",
   "metadata": {},
   "outputs": [],
   "source": [
    "# Beispielhafte Verbindung (Platzhalter, bitte anpassen)\n",
    "conn_str = r'Provider=MSOLAP; Data Source=your_server; Catalog=your_catalog;'\n",
    "\n",
    "# DAX-Abfrage für Vorjahresdaten\n",
    "query_pre = \"\"\"\n",
    "EVALUATE\n",
    "FILTER(\n",
    "    SUMMARIZECOLUMNS(\n",
    "        MyTable[ID],\n",
    "        MyTable[Item],\n",
    "        MyTable[Category],\n",
    "        MyTable[Season],\n",
    "        MyTable[Episode],\n",
    "        KEEPFILTERS(FILTER(ALL(DateTable[Year]), DateTable[Year] < 2024)),\n",
    "        \"MetricValue\", [SomeMeasure]\n",
    "    ),\n",
    "    [SomeMeasure] > 0\n",
    ")\n",
    "\"\"\"\n",
    "\n",
    "# DAX-Abfrage für 2024\n",
    "query_2024 = \"\"\"\n",
    "EVALUATE\n",
    "FILTER(\n",
    "    SUMMARIZECOLUMNS(\n",
    "        MyTable[ID],\n",
    "        MyTable[Item],\n",
    "        MyTable[Category],\n",
    "        DateTable[Month],\n",
    "        MyTable[Season],\n",
    "        MyTable[Episode],\n",
    "        KEEPFILTERS(TREATAS({2024}, DateTable[Year])),\n",
    "        \"MetricValue\", [SomeMeasure]\n",
    "    ),\n",
    "    [SomeMeasure] > 0\n",
    ")\n",
    "\"\"\"\n"
   ]
  },
  {
   "cell_type": "markdown",
   "id": "9766d42f-5031-47d9-bdea-bbcaa9d65259",
   "metadata": {},
   "source": [
    "## DAX-Abfragen ausführen und Daten mit pandas verarbeiten"
   ]
  },
  {
   "cell_type": "code",
   "execution_count": null,
   "id": "8fd79d3a-8511-4493-be27-9887d2a502a5",
   "metadata": {},
   "outputs": [],
   "source": [
    "with Pyadomd(conn_str) as conn:\n",
    "    with conn.cursor().execute(query_pre) as cur:\n",
    "        df_pre = DataFrame(cur.fetchall(), columns=[c.name for c in cur.description])\n",
    "\n",
    "    with conn.cursor().execute(query_2024) as cur:\n",
    "        df_2024 = DataFrame(cur.fetchall(), columns=[c.name for c in cur.description])\n",
    "\n",
    "# Filter: IDs aus 2024, die noch nicht in Vorjahresdaten sind\n",
    "df_final = df_2024[~df_2024['MyTable[ID]'].isin(df_pre['MyTable[ID]'])].reset_index(drop=True)\n",
    "\n",
    "# Pro ID den minimalen Monat auswählen\n",
    "min_indices = df_final.groupby('MyTable[ID]')['DateTable[Month]'].idxmin()\n",
    "df_final_min = df_final.loc[min_indices].reset_index(drop=True)\n",
    "\n",
    "# Ergebnis anzeigen\n",
    "print(df_final_min)\n",
    "\n",
    "# Ergebnis als Excel speichern\n",
    "df_final_min.to_excel(\"df_final_min.xlsx\", index=False)\n"
   ]
  }
 ],
 "metadata": {
  "kernelspec": {
   "display_name": "Python 3 (ipykernel)",
   "language": "python",
   "name": "python3"
  },
  "language_info": {
   "codemirror_mode": {
    "name": "ipython",
    "version": 3
   },
   "file_extension": ".py",
   "mimetype": "text/x-python",
   "name": "python",
   "nbconvert_exporter": "python",
   "pygments_lexer": "ipython3",
   "version": "3.11.5"
  }
 },
 "nbformat": 4,
 "nbformat_minor": 5
}
